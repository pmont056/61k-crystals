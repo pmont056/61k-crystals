{
 "cells": [
  {
   "cell_type": "code",
   "execution_count": 26,
   "metadata": {},
   "outputs": [],
   "source": [
    "from sklearn.preprocessing import OneHotEncoder\n",
    "from sklearn.compose import make_column_transformer\n",
    "import pandas as pd\n",
    "import numpy as np"
   ]
  },
  {
   "cell_type": "code",
   "execution_count": 62,
   "metadata": {},
   "outputs": [],
   "source": [
    "df_62k = pd.read_json('C:/Users/koolk/Downloads/m1507656/df_62k.json', orient='split')\n",
    "#df_62k = df_62k[['canonical_smiles', 'xyz_pbe_relaxed']]"
   ]
  },
  {
   "cell_type": "code",
   "execution_count": 9,
   "metadata": {},
   "outputs": [
    {
     "ename": "ValueError",
     "evalue": "Expected 2D array, got 1D array instead:\narray=['Cc1ccc(cc1)S(=O)(=O)N[C@H](c1nnc(o1)SCc1ccc(cc1)Cl)C\\t\\n'\n 'N#CC(=C(c1ccccc1)c1ccccc1)[C@H](c1ccccc1)NS(=O)(=O)c1ccccc1\\t\\n'\n 'n1ccc(cc1)c1nnc(o1)c1cccs1\\t\\n' ...\n 'C1=CC=C2C[C]([CH]1)[C]1[CH]C=CC=C(C1)CC2\\t\\n'\n 'Cc1ccc(cc1)S(=O)(=O)N[C@H](C(=O)N1C(=O)OC[C@@H]1c1ccccc1)[C@H](c1ccccc1Br)Cl\\t\\n'\n 'OC[C@H]1O[C@H]([C@@H]([C@@H]1O)O)c1n[nH]c2c1nc[nH]c2=O\\t\\n'].\nReshape your data either using array.reshape(-1, 1) if your data has a single feature or array.reshape(1, -1) if it contains a single sample.",
     "output_type": "error",
     "traceback": [
      "\u001b[1;31m---------------------------------------------------------------------------\u001b[0m",
      "\u001b[1;31mValueError\u001b[0m                                Traceback (most recent call last)",
      "\u001b[1;32m<ipython-input-9-be04582e32e3>\u001b[0m in \u001b[0;36m<module>\u001b[1;34m\u001b[0m\n\u001b[0;32m      1\u001b[0m \u001b[0menc\u001b[0m \u001b[1;33m=\u001b[0m \u001b[0mOneHotEncoder\u001b[0m\u001b[1;33m(\u001b[0m\u001b[0mhandle_unknown\u001b[0m\u001b[1;33m=\u001b[0m\u001b[1;34m'ignore'\u001b[0m\u001b[1;33m)\u001b[0m\u001b[1;33m\u001b[0m\u001b[1;33m\u001b[0m\u001b[0m\n\u001b[1;32m----> 2\u001b[1;33m \u001b[0mX\u001b[0m \u001b[1;33m=\u001b[0m \u001b[0menc\u001b[0m\u001b[1;33m.\u001b[0m\u001b[0mfit\u001b[0m\u001b[1;33m(\u001b[0m\u001b[0mdf_62k\u001b[0m\u001b[1;33m[\u001b[0m\u001b[1;34m'canonical_smiles'\u001b[0m\u001b[1;33m]\u001b[0m\u001b[1;33m)\u001b[0m\u001b[1;33m\u001b[0m\u001b[1;33m\u001b[0m\u001b[0m\n\u001b[0m",
      "\u001b[1;32m~\\Anaconda3\\lib\\site-packages\\sklearn\\preprocessing\\_encoders.py\u001b[0m in \u001b[0;36mfit\u001b[1;34m(self, X, y)\u001b[0m\n\u001b[0;32m    345\u001b[0m         \"\"\"\n\u001b[0;32m    346\u001b[0m         \u001b[0mself\u001b[0m\u001b[1;33m.\u001b[0m\u001b[0m_validate_keywords\u001b[0m\u001b[1;33m(\u001b[0m\u001b[1;33m)\u001b[0m\u001b[1;33m\u001b[0m\u001b[1;33m\u001b[0m\u001b[0m\n\u001b[1;32m--> 347\u001b[1;33m         \u001b[0mself\u001b[0m\u001b[1;33m.\u001b[0m\u001b[0m_fit\u001b[0m\u001b[1;33m(\u001b[0m\u001b[0mX\u001b[0m\u001b[1;33m,\u001b[0m \u001b[0mhandle_unknown\u001b[0m\u001b[1;33m=\u001b[0m\u001b[0mself\u001b[0m\u001b[1;33m.\u001b[0m\u001b[0mhandle_unknown\u001b[0m\u001b[1;33m)\u001b[0m\u001b[1;33m\u001b[0m\u001b[1;33m\u001b[0m\u001b[0m\n\u001b[0m\u001b[0;32m    348\u001b[0m         \u001b[0mself\u001b[0m\u001b[1;33m.\u001b[0m\u001b[0mdrop_idx_\u001b[0m \u001b[1;33m=\u001b[0m \u001b[0mself\u001b[0m\u001b[1;33m.\u001b[0m\u001b[0m_compute_drop_idx\u001b[0m\u001b[1;33m(\u001b[0m\u001b[1;33m)\u001b[0m\u001b[1;33m\u001b[0m\u001b[1;33m\u001b[0m\u001b[0m\n\u001b[0;32m    349\u001b[0m         \u001b[1;32mreturn\u001b[0m \u001b[0mself\u001b[0m\u001b[1;33m\u001b[0m\u001b[1;33m\u001b[0m\u001b[0m\n",
      "\u001b[1;32m~\\Anaconda3\\lib\\site-packages\\sklearn\\preprocessing\\_encoders.py\u001b[0m in \u001b[0;36m_fit\u001b[1;34m(self, X, handle_unknown)\u001b[0m\n\u001b[0;32m     72\u001b[0m \u001b[1;33m\u001b[0m\u001b[0m\n\u001b[0;32m     73\u001b[0m     \u001b[1;32mdef\u001b[0m \u001b[0m_fit\u001b[0m\u001b[1;33m(\u001b[0m\u001b[0mself\u001b[0m\u001b[1;33m,\u001b[0m \u001b[0mX\u001b[0m\u001b[1;33m,\u001b[0m \u001b[0mhandle_unknown\u001b[0m\u001b[1;33m=\u001b[0m\u001b[1;34m'error'\u001b[0m\u001b[1;33m)\u001b[0m\u001b[1;33m:\u001b[0m\u001b[1;33m\u001b[0m\u001b[1;33m\u001b[0m\u001b[0m\n\u001b[1;32m---> 74\u001b[1;33m         \u001b[0mX_list\u001b[0m\u001b[1;33m,\u001b[0m \u001b[0mn_samples\u001b[0m\u001b[1;33m,\u001b[0m \u001b[0mn_features\u001b[0m \u001b[1;33m=\u001b[0m \u001b[0mself\u001b[0m\u001b[1;33m.\u001b[0m\u001b[0m_check_X\u001b[0m\u001b[1;33m(\u001b[0m\u001b[0mX\u001b[0m\u001b[1;33m)\u001b[0m\u001b[1;33m\u001b[0m\u001b[1;33m\u001b[0m\u001b[0m\n\u001b[0m\u001b[0;32m     75\u001b[0m \u001b[1;33m\u001b[0m\u001b[0m\n\u001b[0;32m     76\u001b[0m         \u001b[1;32mif\u001b[0m \u001b[0mself\u001b[0m\u001b[1;33m.\u001b[0m\u001b[0mcategories\u001b[0m \u001b[1;33m!=\u001b[0m \u001b[1;34m'auto'\u001b[0m\u001b[1;33m:\u001b[0m\u001b[1;33m\u001b[0m\u001b[1;33m\u001b[0m\u001b[0m\n",
      "\u001b[1;32m~\\Anaconda3\\lib\\site-packages\\sklearn\\preprocessing\\_encoders.py\u001b[0m in \u001b[0;36m_check_X\u001b[1;34m(self, X)\u001b[0m\n\u001b[0;32m     41\u001b[0m         \u001b[1;32mif\u001b[0m \u001b[1;32mnot\u001b[0m \u001b[1;33m(\u001b[0m\u001b[0mhasattr\u001b[0m\u001b[1;33m(\u001b[0m\u001b[0mX\u001b[0m\u001b[1;33m,\u001b[0m \u001b[1;34m'iloc'\u001b[0m\u001b[1;33m)\u001b[0m \u001b[1;32mand\u001b[0m \u001b[0mgetattr\u001b[0m\u001b[1;33m(\u001b[0m\u001b[0mX\u001b[0m\u001b[1;33m,\u001b[0m \u001b[1;34m'ndim'\u001b[0m\u001b[1;33m,\u001b[0m \u001b[1;36m0\u001b[0m\u001b[1;33m)\u001b[0m \u001b[1;33m==\u001b[0m \u001b[1;36m2\u001b[0m\u001b[1;33m)\u001b[0m\u001b[1;33m:\u001b[0m\u001b[1;33m\u001b[0m\u001b[1;33m\u001b[0m\u001b[0m\n\u001b[0;32m     42\u001b[0m             \u001b[1;31m# if not a dataframe, do normal check_array validation\u001b[0m\u001b[1;33m\u001b[0m\u001b[1;33m\u001b[0m\u001b[1;33m\u001b[0m\u001b[0m\n\u001b[1;32m---> 43\u001b[1;33m             \u001b[0mX_temp\u001b[0m \u001b[1;33m=\u001b[0m \u001b[0mcheck_array\u001b[0m\u001b[1;33m(\u001b[0m\u001b[0mX\u001b[0m\u001b[1;33m,\u001b[0m \u001b[0mdtype\u001b[0m\u001b[1;33m=\u001b[0m\u001b[1;32mNone\u001b[0m\u001b[1;33m)\u001b[0m\u001b[1;33m\u001b[0m\u001b[1;33m\u001b[0m\u001b[0m\n\u001b[0m\u001b[0;32m     44\u001b[0m             if (not hasattr(X, 'dtype')\n\u001b[0;32m     45\u001b[0m                     and np.issubdtype(X_temp.dtype, np.str_)):\n",
      "\u001b[1;32m~\\Anaconda3\\lib\\site-packages\\sklearn\\utils\\validation.py\u001b[0m in \u001b[0;36mcheck_array\u001b[1;34m(array, accept_sparse, accept_large_sparse, dtype, order, copy, force_all_finite, ensure_2d, allow_nd, ensure_min_samples, ensure_min_features, warn_on_dtype, estimator)\u001b[0m\n\u001b[0;32m    554\u001b[0m                     \u001b[1;34m\"Reshape your data either using array.reshape(-1, 1) if \"\u001b[0m\u001b[1;33m\u001b[0m\u001b[1;33m\u001b[0m\u001b[0m\n\u001b[0;32m    555\u001b[0m                     \u001b[1;34m\"your data has a single feature or array.reshape(1, -1) \"\u001b[0m\u001b[1;33m\u001b[0m\u001b[1;33m\u001b[0m\u001b[0m\n\u001b[1;32m--> 556\u001b[1;33m                     \"if it contains a single sample.\".format(array))\n\u001b[0m\u001b[0;32m    557\u001b[0m \u001b[1;33m\u001b[0m\u001b[0m\n\u001b[0;32m    558\u001b[0m         \u001b[1;31m# in the future np.flexible dtypes will be handled like object dtypes\u001b[0m\u001b[1;33m\u001b[0m\u001b[1;33m\u001b[0m\u001b[1;33m\u001b[0m\u001b[0m\n",
      "\u001b[1;31mValueError\u001b[0m: Expected 2D array, got 1D array instead:\narray=['Cc1ccc(cc1)S(=O)(=O)N[C@H](c1nnc(o1)SCc1ccc(cc1)Cl)C\\t\\n'\n 'N#CC(=C(c1ccccc1)c1ccccc1)[C@H](c1ccccc1)NS(=O)(=O)c1ccccc1\\t\\n'\n 'n1ccc(cc1)c1nnc(o1)c1cccs1\\t\\n' ...\n 'C1=CC=C2C[C]([CH]1)[C]1[CH]C=CC=C(C1)CC2\\t\\n'\n 'Cc1ccc(cc1)S(=O)(=O)N[C@H](C(=O)N1C(=O)OC[C@@H]1c1ccccc1)[C@H](c1ccccc1Br)Cl\\t\\n'\n 'OC[C@H]1O[C@H]([C@@H]([C@@H]1O)O)c1n[nH]c2c1nc[nH]c2=O\\t\\n'].\nReshape your data either using array.reshape(-1, 1) if your data has a single feature or array.reshape(1, -1) if it contains a single sample."
     ]
    }
   ],
   "source": [
    "enc = OneHotEncoder(handle_unknown='ignore')\n",
    "X = enc.fit(df_62k['canonical_smiles'])"
   ]
  },
  {
   "cell_type": "code",
   "execution_count": null,
   "metadata": {},
   "outputs": [],
   "source": [
    "column_trans = make_column_transformer(\n",
    "    (OneHotEncoder(), ['canonical_smiles']),\n",
    "    remainder='passthrough')\n",
    "\n",
    "column_trans.fit_transform(X)\n",
    "\n",
    "Y = df_62k.xyz_pbe_relaxed\n",
    "\n",
    "ohe = OneHotEncoder(sparse=False)\n",
    "ohe.fit_transform(df_62k[['canonical_smiles']])"
   ]
  },
  {
   "cell_type": "code",
   "execution_count": 10,
   "metadata": {},
   "outputs": [
    {
     "data": {
      "text/plain": [
       "[array(['Female', 'Male'], dtype=object), array([1, 2, 3], dtype=object)]"
      ]
     },
     "execution_count": 10,
     "metadata": {},
     "output_type": "execute_result"
    }
   ],
   "source": [
    "enc = OneHotEncoder(handle_unknown='ignore')\n",
    "X = [['Male', 1], ['Female', 3], ['Female', 2]]\n",
    "enc.fit(X)\n",
    "\n",
    "enc.categories_\n"
   ]
  },
  {
   "cell_type": "code",
   "execution_count": 11,
   "metadata": {},
   "outputs": [
    {
     "data": {
      "text/plain": [
       "[['Male', 1], ['Female', 3], ['Female', 2]]"
      ]
     },
     "execution_count": 11,
     "metadata": {},
     "output_type": "execute_result"
    }
   ],
   "source": [
    "X"
   ]
  },
  {
   "cell_type": "code",
   "execution_count": 13,
   "metadata": {},
   "outputs": [
    {
     "data": {
      "text/plain": [
       "array([[0., 1., 1., 0., 0.],\n",
       "       [1., 0., 0., 0., 1.],\n",
       "       [1., 0., 0., 1., 0.]])"
      ]
     },
     "execution_count": 13,
     "metadata": {},
     "output_type": "execute_result"
    }
   ],
   "source": [
    "enc.transform(X).toarray()"
   ]
  },
  {
   "cell_type": "code",
   "execution_count": 15,
   "metadata": {},
   "outputs": [
    {
     "name": "stdout",
     "output_type": "stream",
     "text": [
      "['Na', '2', 'S', 'O', '4', 'Mn', 'O', '4']\n",
      "['Na', '1', 'H', '1', 'C', '2', 'H', '3', 'O', '2']\n"
     ]
    }
   ],
   "source": [
    "import re\n",
    "print(re.findall('[A-Z][a-z]?|[0-9]+', 'Na2SO4MnO4'))\n",
    "\n",
    "molecule = 'NaHC2H3O2'\n",
    "print(re.findall(r'[A-Z][a-z]*|\\d+', re.sub('[A-Z][a-z]*(?![\\da-z])', r'\\g<0>1', molecule)))"
   ]
  },
  {
   "cell_type": "code",
   "execution_count": 18,
   "metadata": {},
   "outputs": [
    {
     "name": "stdout",
     "output_type": "stream",
     "text": [
      "['Cc', '1', '1', 'S', '1', 'O', '1', 'O', '1', 'N', '1', 'C', '1', 'H', '1', '1', '1', 'S', '1', 'Cc', '1', '1', 'Cl', '1', 'C', '1']\n"
     ]
    }
   ],
   "source": [
    "molecule = df_62k['canonical_smiles'][0]\n",
    "print(re.findall(r'[A-Z][a-z]*|\\d+', re.sub('[A-Z][a-z]*(?![\\da-z])', r'\\g<0>1', molecule)))"
   ]
  },
  {
   "cell_type": "code",
   "execution_count": 19,
   "metadata": {},
   "outputs": [
    {
     "data": {
      "text/plain": [
       "'Cc1ccc(cc1)S(=O)(=O)N[C@H](c1nnc(o1)SCc1ccc(cc1)Cl)C\\t\\n'"
      ]
     },
     "execution_count": 19,
     "metadata": {},
     "output_type": "execute_result"
    }
   ],
   "source": [
    "molecule"
   ]
  },
  {
   "cell_type": "code",
   "execution_count": 21,
   "metadata": {},
   "outputs": [
    {
     "data": {
      "text/plain": [
       "['C',\n",
       " 'c',\n",
       " '1',\n",
       " 'c',\n",
       " 'c',\n",
       " 'c',\n",
       " '(',\n",
       " 'c',\n",
       " 'c',\n",
       " '1',\n",
       " ')',\n",
       " 'S',\n",
       " '(',\n",
       " '=',\n",
       " 'O',\n",
       " ')',\n",
       " '(',\n",
       " '=',\n",
       " 'O',\n",
       " ')',\n",
       " 'N',\n",
       " '[',\n",
       " 'C',\n",
       " '@',\n",
       " 'H',\n",
       " ']',\n",
       " '(',\n",
       " 'c',\n",
       " '1',\n",
       " 'n',\n",
       " 'n',\n",
       " 'c',\n",
       " '(',\n",
       " 'o',\n",
       " '1',\n",
       " ')',\n",
       " 'S',\n",
       " 'C',\n",
       " 'c',\n",
       " '1',\n",
       " 'c',\n",
       " 'c',\n",
       " 'c',\n",
       " '(',\n",
       " 'c',\n",
       " 'c',\n",
       " '1',\n",
       " ')',\n",
       " 'C',\n",
       " 'l',\n",
       " ')',\n",
       " 'C',\n",
       " '\\t',\n",
       " '\\n']"
      ]
     },
     "execution_count": 21,
     "metadata": {},
     "output_type": "execute_result"
    }
   ],
   "source": [
    "list(molecule)"
   ]
  },
  {
   "cell_type": "code",
   "execution_count": 72,
   "metadata": {},
   "outputs": [],
   "source": [
    "molecules = df_62k['canonical_smiles'][0:5000].to_list()\n",
    "# for i, molecule in enumerate(molecules):\n",
    "#     molecules[i] = (list(molecule))\n",
    "\n",
    "#moleculs = np.array(molecules)"
   ]
  },
  {
   "cell_type": "code",
   "execution_count": 73,
   "metadata": {},
   "outputs": [],
   "source": [
    "test = np.array(molecules)"
   ]
  },
  {
   "cell_type": "code",
   "execution_count": 74,
   "metadata": {},
   "outputs": [
    {
     "data": {
      "text/plain": [
       "(5000,)"
      ]
     },
     "execution_count": 74,
     "metadata": {},
     "output_type": "execute_result"
    }
   ],
   "source": [
    "test.shape"
   ]
  },
  {
   "cell_type": "code",
   "execution_count": 37,
   "metadata": {},
   "outputs": [
    {
     "data": {
      "text/plain": [
       "[['C',\n",
       "  'c',\n",
       "  '1',\n",
       "  'c',\n",
       "  'c',\n",
       "  'c',\n",
       "  '(',\n",
       "  'c',\n",
       "  'c',\n",
       "  '1',\n",
       "  ')',\n",
       "  'S',\n",
       "  '(',\n",
       "  '=',\n",
       "  'O',\n",
       "  ')',\n",
       "  '(',\n",
       "  '=',\n",
       "  'O',\n",
       "  ')',\n",
       "  'N',\n",
       "  '[',\n",
       "  'C',\n",
       "  '@',\n",
       "  'H',\n",
       "  ']',\n",
       "  '(',\n",
       "  'c',\n",
       "  '1',\n",
       "  'n',\n",
       "  'n',\n",
       "  'c',\n",
       "  '(',\n",
       "  'o',\n",
       "  '1',\n",
       "  ')',\n",
       "  'S',\n",
       "  'C',\n",
       "  'c',\n",
       "  '1',\n",
       "  'c',\n",
       "  'c',\n",
       "  'c',\n",
       "  '(',\n",
       "  'c',\n",
       "  'c',\n",
       "  '1',\n",
       "  ')',\n",
       "  'C',\n",
       "  'l',\n",
       "  ')',\n",
       "  'C',\n",
       "  '\\t',\n",
       "  '\\n'],\n",
       " ['N',\n",
       "  '#',\n",
       "  'C',\n",
       "  'C',\n",
       "  '(',\n",
       "  '=',\n",
       "  'C',\n",
       "  '(',\n",
       "  'c',\n",
       "  '1',\n",
       "  'c',\n",
       "  'c',\n",
       "  'c',\n",
       "  'c',\n",
       "  'c',\n",
       "  '1',\n",
       "  ')',\n",
       "  'c',\n",
       "  '1',\n",
       "  'c',\n",
       "  'c',\n",
       "  'c',\n",
       "  'c',\n",
       "  'c',\n",
       "  '1',\n",
       "  ')',\n",
       "  '[',\n",
       "  'C',\n",
       "  '@',\n",
       "  'H',\n",
       "  ']',\n",
       "  '(',\n",
       "  'c',\n",
       "  '1',\n",
       "  'c',\n",
       "  'c',\n",
       "  'c',\n",
       "  'c',\n",
       "  'c',\n",
       "  '1',\n",
       "  ')',\n",
       "  'N',\n",
       "  'S',\n",
       "  '(',\n",
       "  '=',\n",
       "  'O',\n",
       "  ')',\n",
       "  '(',\n",
       "  '=',\n",
       "  'O',\n",
       "  ')',\n",
       "  'c',\n",
       "  '1',\n",
       "  'c',\n",
       "  'c',\n",
       "  'c',\n",
       "  'c',\n",
       "  'c',\n",
       "  '1',\n",
       "  '\\t',\n",
       "  '\\n'],\n",
       " ['n',\n",
       "  '1',\n",
       "  'c',\n",
       "  'c',\n",
       "  'c',\n",
       "  '(',\n",
       "  'c',\n",
       "  'c',\n",
       "  '1',\n",
       "  ')',\n",
       "  'c',\n",
       "  '1',\n",
       "  'n',\n",
       "  'n',\n",
       "  'c',\n",
       "  '(',\n",
       "  'o',\n",
       "  '1',\n",
       "  ')',\n",
       "  'c',\n",
       "  '1',\n",
       "  'c',\n",
       "  'c',\n",
       "  'c',\n",
       "  's',\n",
       "  '1',\n",
       "  '\\t',\n",
       "  '\\n']]"
      ]
     },
     "execution_count": 37,
     "metadata": {},
     "output_type": "execute_result"
    }
   ],
   "source": [
    "molecules"
   ]
  },
  {
   "cell_type": "code",
   "execution_count": 39,
   "metadata": {},
   "outputs": [],
   "source": [
    "test = np.array([[1, 2, 3],[1, 2, 3], [1, 2, 3]])"
   ]
  },
  {
   "cell_type": "code",
   "execution_count": 40,
   "metadata": {},
   "outputs": [
    {
     "data": {
      "text/plain": [
       "(3, 3)"
      ]
     },
     "execution_count": 40,
     "metadata": {},
     "output_type": "execute_result"
    }
   ],
   "source": [
    "test.shape"
   ]
  },
  {
   "cell_type": "code",
   "execution_count": 75,
   "metadata": {},
   "outputs": [],
   "source": [
    "maxlen = len(max(molecules, key=len))\n",
    "molecules = [x + ('0' * (maxlen - len(x))) for x in molecules]\n",
    "\n",
    "for i, molecule in enumerate(molecules):\n",
    "    molecules[i] = (list(molecule))"
   ]
  },
  {
   "cell_type": "code",
   "execution_count": 76,
   "metadata": {},
   "outputs": [],
   "source": [
    "X = np.array(molecules)"
   ]
  },
  {
   "cell_type": "code",
   "execution_count": 50,
   "metadata": {},
   "outputs": [
    {
     "data": {
      "text/plain": [
       "array([['C', 'c', '1', 'c', 'c', 'c', '(', 'c', 'c', '1', ')', 'S', '(',\n",
       "        '=', 'O', ')', '(', '=', 'O', ')', 'N', '[', 'C', '@', 'H', ']',\n",
       "        '(', 'c', '1', 'n', 'n', 'c', '(', 'o', '1', ')', 'S', 'C', 'c',\n",
       "        '1', 'c', 'c', 'c', '(', 'c', 'c', '1', ')', 'C', 'l', ')', 'C',\n",
       "        '\\t', '\\n', '0', '0', '0', '0', '0', '0', '0'],\n",
       "       ['N', '#', 'C', 'C', '(', '=', 'C', '(', 'c', '1', 'c', 'c', 'c',\n",
       "        'c', 'c', '1', ')', 'c', '1', 'c', 'c', 'c', 'c', 'c', '1', ')',\n",
       "        '[', 'C', '@', 'H', ']', '(', 'c', '1', 'c', 'c', 'c', 'c', 'c',\n",
       "        '1', ')', 'N', 'S', '(', '=', 'O', ')', '(', '=', 'O', ')', 'c',\n",
       "        '1', 'c', 'c', 'c', 'c', 'c', '1', '\\t', '\\n'],\n",
       "       ['n', '1', 'c', 'c', 'c', '(', 'c', 'c', '1', ')', 'c', '1', 'n',\n",
       "        'n', 'c', '(', 'o', '1', ')', 'c', '1', 'c', 'c', 'c', 's', '1',\n",
       "        '\\t', '\\n', '0', '0', '0', '0', '0', '0', '0', '0', '0', '0',\n",
       "        '0', '0', '0', '0', '0', '0', '0', '0', '0', '0', '0', '0', '0',\n",
       "        '0', '0', '0', '0', '0', '0', '0', '0', '0', '0']], dtype='<U1')"
      ]
     },
     "execution_count": 50,
     "metadata": {},
     "output_type": "execute_result"
    }
   ],
   "source": [
    "X"
   ]
  },
  {
   "cell_type": "code",
   "execution_count": 77,
   "metadata": {},
   "outputs": [],
   "source": [
    "enc = OneHotEncoder(handle_unknown='ignore')\n",
    "X1 = enc.fit(X)"
   ]
  },
  {
   "cell_type": "code",
   "execution_count": 78,
   "metadata": {},
   "outputs": [],
   "source": [
    "X1 = X1.transform(X).toarray()"
   ]
  },
  {
   "cell_type": "code",
   "execution_count": null,
   "metadata": {},
   "outputs": [],
   "source": [
    "def encode_smiles(raw_dataframe):\n",
    "    \"\"\"\n",
    "    Add documentation here\n",
    "    \"\"\"\n",
    "    \n",
    "    return encoded_dataframe"
   ]
  },
  {
   "cell_type": "code",
   "execution_count": null,
   "metadata": {},
   "outputs": [],
   "source": [
    "def pull_predicted_variable():\n",
    "    \n",
    "    return y_variable"
   ]
  },
  {
   "cell_type": "code",
   "execution_count": null,
   "metadata": {},
   "outputs": [],
   "source": [
    "# How to remove NaN values from the array?\n"
   ]
  },
  {
   "cell_type": "code",
   "execution_count": 58,
   "metadata": {},
   "outputs": [],
   "source": [
    "Y = df_62k['xyz_pbe_relaxed'][0:5000]"
   ]
  },
  {
   "cell_type": "code",
   "execution_count": 61,
   "metadata": {},
   "outputs": [
    {
     "data": {
      "text/plain": [
       "'55\\n\\nC       8.74281024      13.44863575      23.16378372 \\nH       8.21599736      13.87647342      22.31102708 \\nC      10.11074978      13.19356923      23.08694135 \\nH      10.66156989      13.42447181      22.17529062 \\nS      10.21984476      11.77007898      29.24516565 \\nO       9.84042509      12.85260020      30.12674851 \\nO       9.36376303      10.62762033      28.99958012 \\nN      10.46415466      12.48990165      27.77028383 \\nH      10.87854714      13.41964366      27.83814498 \\nC      10.78160584      11.71087995      26.56899447 \\nH      10.32214279      10.72501353      26.73204483 \\nC      10.09912389      12.35237176      25.36230584 \\nC       8.72448552      12.61600039      25.43519330 \\nH       8.18799067      12.39839884      26.35887093 \\nC       8.05098811      13.15651134      24.34266310 \\nH       6.98099661      13.35257331      24.41152176 \\nC      10.78568512      12.64534155      24.18069782 \\nH      11.85534857      12.44991740      24.10691665 \\nC      11.67094309       6.71025632      26.43329001 \\nH      11.92121614       5.81182324      26.99721422 \\nC      10.61726558       6.69117798      25.51596520 \\nH      10.04340362       5.77799765      25.36028176 \\nC      10.31077367       7.84372826      24.79244796 \\nH       9.50273009       7.83332750      24.06143637 \\nC      11.03704148       9.01628435      24.99640142 \\nH      10.80034365       9.90295816      24.40974500 \\nN      13.56211038      13.71711841      26.74414499 \\nC      12.07051104       9.77255700      29.68626470 \\nH      11.32170131       9.11119469      29.25464418 \\nC      13.29606260       9.28321813      30.13860887 \\nH      13.51605972       8.21908850      30.05537395 \\nC      14.23360836      10.14988375      30.70242936 \\nH      15.18882642       9.76240207      31.05576362 \\nC      13.95141000      11.51436592      30.81173061 \\nH      14.68251701      12.19195350      31.25161752 \\nC      12.73005466      12.01524457      30.36397898 \\nH      12.49305329      13.07382062      30.45871279 \\nC      11.79679134      11.13595322      29.80757459 \\nC      12.28663726      11.49056361      26.40928961 \\nC      13.05277476      12.67860849      26.58351282 \\nC      12.87960329      10.27851286      26.18676214 \\nC      12.08815605       9.05331198      25.92805742 \\nC      12.40830039       7.87434403      26.62667609 \\nH      13.23691827       7.88608851      27.33359972 \\nC      14.35112342      10.11150733      26.21211626 \\nC      15.13749944      10.66707416      27.23317940 \\nH      14.66261912      11.22272948      28.03817675 \\nC      16.51865116      10.48684979      27.23962420 \\nH      17.11239904      10.91724659      28.04585678 \\nC      17.13806951       9.75669886      26.22416317 \\nH      18.21939511       9.62060894      26.22885105 \\nC      16.36505018       9.19427391      25.20554335 \\nH      16.84111905       8.62196334      24.40960063 \\nC      14.98254861       9.35857500      25.20596312 \\nH      14.37993631       8.91047544      24.41607102 \\n'"
      ]
     },
     "execution_count": 61,
     "metadata": {},
     "output_type": "execute_result"
    }
   ],
   "source": [
    "Y[1]"
   ]
  },
  {
   "cell_type": "code",
   "execution_count": 64,
   "metadata": {},
   "outputs": [
    {
     "data": {
      "text/plain": [
       "Index(['refcode_csd', 'canonical_smiles', 'inchi', 'number_of_atoms',\n",
       "       'xyz_pbe_relaxed', 'energies_occ_pbe', 'energies_occ_pbe0_vac_tier2',\n",
       "       'energies_occ_pbe0_water', 'energies_occ_pbe0_vac_tzvp',\n",
       "       'energies_occ_pbe0_vac_qzvp', 'energies_occ_gw_tzvp',\n",
       "       'energies_occ_gw_qzvp', 'cbs_occ_gw', 'energies_unocc_pbe',\n",
       "       'energies_unocc_pbe0_vac_tier2', 'energies_unocc_pbe0_water',\n",
       "       'energies_unocc_pbe0_vac_tzvp', 'energies_unocc_pbe0_vac_qzvp',\n",
       "       'energies_unocc_gw_tzvp', 'energies_unocc_gw_qzvp', 'cbs_unocc_gw',\n",
       "       'total_energy_pbe', 'total_energy_pbe0_vac_tier2',\n",
       "       'total_energy_pbe0_water', 'total_energy_pbe0_vac_tzvp',\n",
       "       'total_energy_pbe0_vac_qzvp', 'hirshfeld_pbe',\n",
       "       'hirshfeld_pbe0_vac_tier2', 'hirshfeld_pbe0_water'],\n",
       "      dtype='object')"
      ]
     },
     "execution_count": 64,
     "metadata": {},
     "output_type": "execute_result"
    }
   ],
   "source": [
    "df_62k.columns"
   ]
  },
  {
   "cell_type": "code",
   "execution_count": 79,
   "metadata": {},
   "outputs": [],
   "source": [
    "y = df_62k['total_energy_pbe'][0:5000]"
   ]
  },
  {
   "cell_type": "code",
   "execution_count": 85,
   "metadata": {},
   "outputs": [
    {
     "data": {
      "text/plain": [
       "SVR(C=1.0, cache_size=200, coef0=0.0, degree=3, epsilon=0.1, gamma='scale',\n",
       "    kernel='rbf', max_iter=-1, shrinking=True, tol=0.001, verbose=False)"
      ]
     },
     "execution_count": 85,
     "metadata": {},
     "output_type": "execute_result"
    }
   ],
   "source": [
    "from sklearn import svm\n",
    "#X = [[0, 0], [1, 1]]\n",
    "#y = [0, 1]\n",
    "clf = svm.SVR()\n",
    "clf.fit(X1, y)"
   ]
  },
  {
   "cell_type": "code",
   "execution_count": 81,
   "metadata": {},
   "outputs": [
    {
     "data": {
      "text/plain": [
       "(5000, 2822)"
      ]
     },
     "execution_count": 81,
     "metadata": {},
     "output_type": "execute_result"
    }
   ],
   "source": [
    "X1.shape"
   ]
  },
  {
   "cell_type": "code",
   "execution_count": 82,
   "metadata": {},
   "outputs": [
    {
     "data": {
      "text/plain": [
       "(5000,)"
      ]
     },
     "execution_count": 82,
     "metadata": {},
     "output_type": "execute_result"
    }
   ],
   "source": [
    "y.shape"
   ]
  },
  {
   "cell_type": "code",
   "execution_count": 84,
   "metadata": {},
   "outputs": [
    {
     "data": {
      "text/plain": [
       "numpy.float64"
      ]
     },
     "execution_count": 84,
     "metadata": {},
     "output_type": "execute_result"
    }
   ],
   "source": [
    "type(y[0])"
   ]
  },
  {
   "cell_type": "code",
   "execution_count": 86,
   "metadata": {},
   "outputs": [],
   "source": [
    "y_pred = clf.predict(X1)"
   ]
  },
  {
   "cell_type": "code",
   "execution_count": 87,
   "metadata": {},
   "outputs": [],
   "source": [
    "from sklearn.metrics import explained_variance_score"
   ]
  },
  {
   "cell_type": "code",
   "execution_count": 88,
   "metadata": {},
   "outputs": [
    {
     "data": {
      "text/plain": [
       "0.00028945827702264726"
      ]
     },
     "execution_count": 88,
     "metadata": {},
     "output_type": "execute_result"
    }
   ],
   "source": [
    "explained_variance_score(y, y_pred)"
   ]
  },
  {
   "cell_type": "code",
   "execution_count": 89,
   "metadata": {},
   "outputs": [
    {
     "data": {
      "text/plain": [
       "0       -63908.261677\n",
       "1       -47344.131203\n",
       "2       -28915.979909\n",
       "3       -29310.525400\n",
       "4       -23659.206412\n",
       "            ...      \n",
       "5485    -32250.357970\n",
       "5487   -157893.643781\n",
       "5488    -26031.722668\n",
       "5489   -231039.615852\n",
       "5490    -27073.810789\n",
       "Name: total_energy_pbe, Length: 5000, dtype: float64"
      ]
     },
     "execution_count": 89,
     "metadata": {},
     "output_type": "execute_result"
    }
   ],
   "source": [
    "y"
   ]
  },
  {
   "cell_type": "code",
   "execution_count": 90,
   "metadata": {},
   "outputs": [
    {
     "data": {
      "text/plain": [
       "array([-30064.53875505, -30064.63660783, -29945.87400908, ...,\n",
       "       -30027.29141429, -30043.1641612 , -30050.96434851])"
      ]
     },
     "execution_count": 90,
     "metadata": {},
     "output_type": "execute_result"
    }
   ],
   "source": [
    "y_pred"
   ]
  },
  {
   "cell_type": "code",
   "execution_count": null,
   "metadata": {},
   "outputs": [],
   "source": []
  }
 ],
 "metadata": {
  "kernelspec": {
   "display_name": "Python 3",
   "language": "python",
   "name": "python3"
  },
  "language_info": {
   "codemirror_mode": {
    "name": "ipython",
    "version": 3
   },
   "file_extension": ".py",
   "mimetype": "text/x-python",
   "name": "python",
   "nbconvert_exporter": "python",
   "pygments_lexer": "ipython3",
   "version": "3.7.2"
  }
 },
 "nbformat": 4,
 "nbformat_minor": 4
}
