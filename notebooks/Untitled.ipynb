{
 "cells": [
  {
   "cell_type": "code",
   "execution_count": 4,
   "metadata": {},
   "outputs": [
    {
     "ename": "ModuleNotFoundError",
     "evalue": "No module named 'sixty2k_crystals'",
     "output_type": "error",
     "traceback": [
      "\u001b[1;31m---------------------------------------------------------------------------\u001b[0m",
      "\u001b[1;31mModuleNotFoundError\u001b[0m                       Traceback (most recent call last)",
      "\u001b[1;32m<ipython-input-4-c465f2b74850>\u001b[0m in \u001b[0;36m<module>\u001b[1;34m\u001b[0m\n\u001b[1;32m----> 1\u001b[1;33m \u001b[1;32mimport\u001b[0m \u001b[0msixty2k_crystals\u001b[0m\u001b[1;33m\u001b[0m\u001b[1;33m\u001b[0m\u001b[0m\n\u001b[0m",
      "\u001b[1;31mModuleNotFoundError\u001b[0m: No module named 'sixty2k_crystals'"
     ]
    }
   ],
   "source": [
    "import sixty2k_crystals"
   ]
  },
  {
   "cell_type": "code",
   "execution_count": 5,
   "metadata": {},
   "outputs": [],
   "source": [
    "import sys"
   ]
  },
  {
   "cell_type": "code",
   "execution_count": 6,
   "metadata": {},
   "outputs": [
    {
     "data": {
      "text/plain": [
       "['C:\\\\Users\\\\koolk\\\\source\\\\mentees\\\\62k-crystals\\\\notebooks',\n",
       " 'C:\\\\Users\\\\koolk\\\\Anaconda3\\\\python37.zip',\n",
       " 'C:\\\\Users\\\\koolk\\\\Anaconda3\\\\DLLs',\n",
       " 'C:\\\\Users\\\\koolk\\\\Anaconda3\\\\lib',\n",
       " 'C:\\\\Users\\\\koolk\\\\Anaconda3',\n",
       " '',\n",
       " 'C:\\\\Users\\\\koolk\\\\Anaconda3\\\\lib\\\\site-packages',\n",
       " 'c:\\\\users\\\\koolk\\\\desktop\\\\diff_classifier',\n",
       " 'C:\\\\Users\\\\koolk\\\\Anaconda3\\\\lib\\\\site-packages\\\\fijibin-0.3.0-py3.7.egg',\n",
       " 'C:\\\\Users\\\\koolk\\\\Anaconda3\\\\lib\\\\site-packages\\\\boto3-1.9.85-py3.7.egg',\n",
       " 'C:\\\\Users\\\\koolk\\\\Anaconda3\\\\lib\\\\site-packages\\\\sklearn-0.0-py3.7.egg',\n",
       " 'C:\\\\Users\\\\koolk\\\\Anaconda3\\\\lib\\\\site-packages\\\\pytest-4.1.0-py3.7.egg',\n",
       " 'C:\\\\Users\\\\koolk\\\\Anaconda3\\\\lib\\\\site-packages\\\\coveralls-1.5.1-py3.7.egg',\n",
       " 'C:\\\\Users\\\\koolk\\\\Anaconda3\\\\lib\\\\site-packages\\\\coverage-4.5.2-py3.7-win-amd64.egg',\n",
       " 'C:\\\\Users\\\\koolk\\\\Anaconda3\\\\lib\\\\site-packages\\\\pydebug-1.0.3-py3.7.egg',\n",
       " 'C:\\\\Users\\\\koolk\\\\Anaconda3\\\\lib\\\\site-packages\\\\s3transfer-0.1.13-py3.7.egg',\n",
       " 'C:\\\\Users\\\\koolk\\\\Anaconda3\\\\lib\\\\site-packages\\\\jmespath-0.9.3-py3.7.egg',\n",
       " 'C:\\\\Users\\\\koolk\\\\Anaconda3\\\\lib\\\\site-packages\\\\botocore-1.12.85-py3.7.egg',\n",
       " 'C:\\\\Users\\\\koolk\\\\Anaconda3\\\\lib\\\\site-packages\\\\docopt-0.6.2-py3.7.egg',\n",
       " 'c:\\\\users\\\\koolk\\\\desktop\\\\diff_register',\n",
       " 'c:\\\\users\\\\koolk\\\\source\\\\ferretfit',\n",
       " 'c:\\\\users\\\\koolk\\\\source\\\\nvision',\n",
       " 'C:\\\\Users\\\\koolk\\\\Anaconda3\\\\lib\\\\site-packages\\\\win32',\n",
       " 'C:\\\\Users\\\\koolk\\\\Anaconda3\\\\lib\\\\site-packages\\\\win32\\\\lib',\n",
       " 'C:\\\\Users\\\\koolk\\\\Anaconda3\\\\lib\\\\site-packages\\\\Pythonwin',\n",
       " 'C:\\\\Users\\\\koolk\\\\Anaconda3\\\\lib\\\\site-packages\\\\IPython\\\\extensions',\n",
       " 'C:\\\\Users\\\\koolk\\\\.ipython']"
      ]
     },
     "execution_count": 6,
     "metadata": {},
     "output_type": "execute_result"
    }
   ],
   "source": [
    "sys.path"
   ]
  },
  {
   "cell_type": "code",
   "execution_count": 7,
   "metadata": {},
   "outputs": [],
   "source": [
    "sys.path.append('../sixty2k_crystals/')"
   ]
  },
  {
   "cell_type": "code",
   "execution_count": 9,
   "metadata": {},
   "outputs": [
    {
     "ename": "SyntaxError",
     "evalue": "EOL while scanning string literal (ohe.py, line 123)",
     "output_type": "error",
     "traceback": [
      "Traceback \u001b[1;36m(most recent call last)\u001b[0m:\n",
      "  File \u001b[0;32m\"C:\\Users\\koolk\\Anaconda3\\lib\\site-packages\\IPython\\core\\interactiveshell.py\"\u001b[0m, line \u001b[0;32m3331\u001b[0m, in \u001b[0;35mrun_code\u001b[0m\n    exec(code_obj, self.user_global_ns, self.user_ns)\n",
      "\u001b[1;36m  File \u001b[1;32m\"<ipython-input-9-54d36a27b157>\"\u001b[1;36m, line \u001b[1;32m1\u001b[1;36m, in \u001b[1;35m<module>\u001b[1;36m\u001b[0m\n\u001b[1;33m    import ohe\u001b[0m\n",
      "\u001b[1;36m  File \u001b[1;32m\"../sixty2k_crystals\\ohe.py\"\u001b[1;36m, line \u001b[1;32m123\u001b[0m\n\u001b[1;33m    elif c == ')':'\u001b[0m\n\u001b[1;37m                   ^\u001b[0m\n\u001b[1;31mSyntaxError\u001b[0m\u001b[1;31m:\u001b[0m EOL while scanning string literal\n"
     ]
    }
   ],
   "source": [
    "import ohe"
   ]
  },
  {
   "cell_type": "code",
   "execution_count": null,
   "metadata": {},
   "outputs": [],
   "source": []
  }
 ],
 "metadata": {
  "kernelspec": {
   "display_name": "my-rdkit-env",
   "language": "python",
   "name": "my-rdkit-env"
  },
  "language_info": {
   "codemirror_mode": {
    "name": "ipython",
    "version": 3
   },
   "file_extension": ".py",
   "mimetype": "text/x-python",
   "name": "python",
   "nbconvert_exporter": "python",
   "pygments_lexer": "ipython3",
   "version": "3.7.2"
  }
 },
 "nbformat": 4,
 "nbformat_minor": 4
}
