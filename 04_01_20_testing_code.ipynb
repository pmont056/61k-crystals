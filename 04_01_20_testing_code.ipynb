{
 "cells": [
  {
   "cell_type": "code",
   "execution_count": 16,
   "metadata": {},
   "outputs": [
    {
     "name": "stderr",
     "output_type": "stream",
     "text": [
      "Using TensorFlow backend.\n"
     ]
    }
   ],
   "source": [
    "from sklearn.preprocessing import OneHotEncoder\n",
    "import pandas as pd\n",
    "import numpy as np\n",
    "from keras.models import Sequential\n",
    "from keras.layers import Conv1D, MaxPooling1D, Dense, Flatten\n",
    "from keras.utils import to_categorical\n",
    "from sklearn.model_selection import train_test_split\n",
    "from keras import models"
   ]
  },
  {
   "cell_type": "code",
   "execution_count": null,
   "metadata": {},
   "outputs": [],
   "source": []
  },
  {
   "cell_type": "code",
   "execution_count": 10,
   "metadata": {},
   "outputs": [],
   "source": [
    "import urllib\n",
    "import os\n",
    "import zipfile"
   ]
  },
  {
   "cell_type": "code",
   "execution_count": 24,
   "metadata": {},
   "outputs": [],
   "source": [
    "def download_data(directory=None):\n",
    "    '''\n",
    "    Downloads the dataset for the 62k crystal analysis.\n",
    "    \n",
    "    Parameters\n",
    "    ----------\n",
    "    directory : str or None\n",
    "        Directory where the 'm1507656' file currently lives\n",
    "        if already downloaded, or None if not already\n",
    "        downloaded\n",
    "    \n",
    "    Returns\n",
    "    -------\n",
    "    filename : str\n",
    "        The absolute filename of the 'df_62k.json' file\n",
    "        used for the downstream analysis\n",
    "\n",
    "    '''\n",
    "    if directory is None:\n",
    "        directory = os.getcwd()\n",
    "    else:\n",
    "        pass\n",
    "    \n",
    "    filename = os.path.join(directory, 'm1507656.zip')\n",
    "    url = 'https://dataserv.ub.tum.de/s/m1507656/download'\n",
    "    urllib.request.urlretrieve(url, filename)\n",
    "    \n",
    "    with zipfile.ZipFile(filename, 'r') as zip_ref:\n",
    "        zip_ref.extractall(directory)\n",
    "    \n",
    "    return os.path.join(directory, 'm1507656\\\\df_62k.json')"
   ]
  },
  {
   "cell_type": "code",
   "execution_count": 25,
   "metadata": {},
   "outputs": [],
   "source": [
    "def unpack_data(filename):\n",
    "    '''\n",
    "    Stores data from the json file into a pandas dataframe\n",
    "    and preps SMILES strings data for downstream analysis.\n",
    "    \n",
    "    Parameters\n",
    "    ----------\n",
    "    filename : str\n",
    "        File location of the data.\n",
    "    \n",
    "    Returns\n",
    "    -------\n",
    "    df_62k : pandas\n",
    "        A pandas dataframe of the data\n",
    "    molecules : list\n",
    "        A list of the SMILES strings expressed as lists of\n",
    "        individual characters\n",
    "\n",
    "    '''\n",
    "    \n",
    "    # Unpack data into pandas dataframe\n",
    "    df_62k = pd.read_json(filename, orient='split')\n",
    "    \n",
    "    # Extract SMILES strings\n",
    "    molecules = df_62k['canonical_smiles'].values\n",
    "    maxlen = len(max(molecules, key=len))\n",
    "\n",
    "    molecules = molecules.reshape(-1, 1)\n",
    "    molecules = molecules.astype(str)\n",
    "\n",
    "    # Pad strings so all the same length\n",
    "    molecules = np.char.zfill(molecules, width=maxlen)\n",
    "    \n",
    "    # Turns the string array into a list of single characters\n",
    "    molecules = molecules.tolist()\n",
    "    molecules2 = [list(x[0]) for x in molecules]\n",
    "    \n",
    "    return df_62k, molecules2"
   ]
  },
  {
   "cell_type": "code",
   "execution_count": 27,
   "metadata": {},
   "outputs": [],
   "source": [
    "filename = download_data(directory=os.getcwd())\n",
    "df_62k, molecules = unpack_data(filename)"
   ]
  },
  {
   "cell_type": "code",
   "execution_count": 30,
   "metadata": {},
   "outputs": [],
   "source": [
    "def encoded_smiles(string_array):\n",
    "    '''\n",
    "    Convert SMILES Strings into OneHotEncode 2D arrays\n",
    "    \n",
    "    Parameters\n",
    "    -----\n",
    "    string_array : list\n",
    "        A list of lists containing SMILES strings broken up into\n",
    "        indvidual characters\n",
    "    \n",
    "    Returns\n",
    "    -------\n",
    "    enc : model\n",
    "        The encoder model used to transform SMILES strings\n",
    "        into binary representation\n",
    "    x1 : list\n",
    "        A list of binary representations of the SMILES strings\n",
    "        inputs\n",
    "    \n",
    "    Examples\n",
    "    --------\n",
    "    \n",
    "    \n",
    "    '''\n",
    "    \n",
    "    enc = OneHotEncoder(handle_unknown='ignore')\n",
    "    x1 = enc.fit(string_array)\n",
    "    x1 = x1.transform(string_array).toarray()\n",
    "\n",
    "    return enc, x1"
   ]
  },
  {
   "cell_type": "code",
   "execution_count": 31,
   "metadata": {},
   "outputs": [],
   "source": [
    "enc, x1 = encoded_smiles(molecules)"
   ]
  },
  {
   "cell_type": "code",
   "execution_count": 32,
   "metadata": {},
   "outputs": [
    {
     "data": {
      "text/plain": [
       "(61489, 5495)"
      ]
     },
     "execution_count": 32,
     "metadata": {},
     "output_type": "execute_result"
    }
   ],
   "source": [
    "x1.shape"
   ]
  },
  {
   "cell_type": "code",
   "execution_count": 33,
   "metadata": {},
   "outputs": [
    {
     "data": {
      "text/plain": [
       "array([1., 0., 1., ..., 0., 1., 1.])"
      ]
     },
     "execution_count": 33,
     "metadata": {},
     "output_type": "execute_result"
    }
   ],
   "source": [
    "x1[1, :]"
   ]
  },
  {
   "cell_type": "code",
   "execution_count": null,
   "metadata": {},
   "outputs": [],
   "source": []
  }
 ],
 "metadata": {
  "kernelspec": {
   "display_name": "Python (keras)",
   "language": "python",
   "name": "keras"
  },
  "language_info": {
   "codemirror_mode": {
    "name": "ipython",
    "version": 3
   },
   "file_extension": ".py",
   "mimetype": "text/x-python",
   "name": "python",
   "nbconvert_exporter": "python",
   "pygments_lexer": "ipython3",
   "version": "3.6.8"
  }
 },
 "nbformat": 4,
 "nbformat_minor": 4
}
